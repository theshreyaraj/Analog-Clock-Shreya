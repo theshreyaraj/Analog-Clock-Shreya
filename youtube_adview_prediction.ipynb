{
  "nbformat": 4,
  "nbformat_minor": 0,
  "metadata": {
    "colab": {
      "name": "youtube_adview_prediction.ipynb",
      "provenance": [],
      "toc_visible": true,
      "authorship_tag": "ABX9TyMB/v8MkNo+OetAvJgRWfX5",
      "include_colab_link": true
    },
    "kernelspec": {
      "name": "python3",
      "display_name": "Python 3"
    },
    "language_info": {
      "name": "python"
    }
  },
  "cells": [
    {
      "cell_type": "markdown",
      "metadata": {
        "id": "view-in-github",
        "colab_type": "text"
      },
      "source": [
        "<a href=\"https://colab.research.google.com/github/theshreyaraj/Analog-Clock-Shreya/blob/master/youtube_adview_prediction.ipynb\" target=\"_parent\"><img src=\"https://colab.research.google.com/assets/colab-badge.svg\" alt=\"Open In Colab\"/></a>"
      ]
    },
    {
      "cell_type": "markdown",
      "source": [
        "IMPORTING LIBRARIES\n"
      ],
      "metadata": {
        "id": "ADEJ1SmA4YxA"
      }
    },
    {
      "cell_type": "code",
      "source": [
        "import numpy as np\n",
        "import pandas as pd\n",
        "import matplotlib.pyplot as plt\n",
        "import matplotlib.cm as cm\n",
        "import datetime\n",
        "import time\n",
        "import seaborn as sns\n",
        "import joblib\n",
        "import keras\n",
        "from sklearn.preprocessing import LabelEncoder,MinMaxScaler\n",
        "from sklearn.model_selection import train_test_split\n",
        "from sklearn.metrics import mean_squared_error,mean_absolute_error,r2_score\n",
        "from sklearn.linear_model import LinearRegression\n",
        "from sklearn.svm import SVR\n",
        "from sklearn.tree import DecisionTreeRegressor\n",
        "from sklearn.ensemble import RandomForestRegressor \n",
        "from sklearn.model_selection import RandomizedSearchCV\n",
        "from google.colab import files"
      ],
      "metadata": {
        "id": "lvZpjrAC4cyU"
      },
      "execution_count": 1,
      "outputs": []
    },
    {
      "cell_type": "markdown",
      "source": [
        "READ FILES\n"
      ],
      "metadata": {
        "id": "cu4o8C566MYb"
      }
    },
    {
      "cell_type": "code",
      "source": [
        "data_train=pd.read_csv(\"train.csv\")\n",
        "data_test=pd.read_csv(\"test.csv\")"
      ],
      "metadata": {
        "id": "dpE3FmrD6TSv"
      },
      "execution_count": 2,
      "outputs": []
    },
    {
      "cell_type": "code",
      "source": [
        "data_train"
      ],
      "metadata": {
        "colab": {
          "base_uri": "https://localhost:8080/",
          "height": 423
        },
        "id": "Xh_dp0nC6iK2",
        "outputId": "94c720fc-adba-45d8-9fb7-0b7a618453a5"
      },
      "execution_count": 3,
      "outputs": [
        {
          "output_type": "execute_result",
          "data": {
            "text/html": [
              "\n",
              "  <div id=\"df-8c1d9980-799b-4deb-94e8-6fee27b9e40b\">\n",
              "    <div class=\"colab-df-container\">\n",
              "      <div>\n",
              "<style scoped>\n",
              "    .dataframe tbody tr th:only-of-type {\n",
              "        vertical-align: middle;\n",
              "    }\n",
              "\n",
              "    .dataframe tbody tr th {\n",
              "        vertical-align: top;\n",
              "    }\n",
              "\n",
              "    .dataframe thead th {\n",
              "        text-align: right;\n",
              "    }\n",
              "</style>\n",
              "<table border=\"1\" class=\"dataframe\">\n",
              "  <thead>\n",
              "    <tr style=\"text-align: right;\">\n",
              "      <th></th>\n",
              "      <th>vidid</th>\n",
              "      <th>adview</th>\n",
              "      <th>views</th>\n",
              "      <th>likes</th>\n",
              "      <th>dislikes</th>\n",
              "      <th>comment</th>\n",
              "      <th>published</th>\n",
              "      <th>duration</th>\n",
              "      <th>category</th>\n",
              "    </tr>\n",
              "  </thead>\n",
              "  <tbody>\n",
              "    <tr>\n",
              "      <th>0</th>\n",
              "      <td>VID_18655</td>\n",
              "      <td>40</td>\n",
              "      <td>1031602</td>\n",
              "      <td>8523</td>\n",
              "      <td>363</td>\n",
              "      <td>1095</td>\n",
              "      <td>2016-09-14</td>\n",
              "      <td>PT7M37S</td>\n",
              "      <td>F</td>\n",
              "    </tr>\n",
              "    <tr>\n",
              "      <th>1</th>\n",
              "      <td>VID_14135</td>\n",
              "      <td>2</td>\n",
              "      <td>1707</td>\n",
              "      <td>56</td>\n",
              "      <td>2</td>\n",
              "      <td>6</td>\n",
              "      <td>2016-10-01</td>\n",
              "      <td>PT9M30S</td>\n",
              "      <td>D</td>\n",
              "    </tr>\n",
              "    <tr>\n",
              "      <th>2</th>\n",
              "      <td>VID_2187</td>\n",
              "      <td>1</td>\n",
              "      <td>2023</td>\n",
              "      <td>25</td>\n",
              "      <td>0</td>\n",
              "      <td>2</td>\n",
              "      <td>2016-07-02</td>\n",
              "      <td>PT2M16S</td>\n",
              "      <td>C</td>\n",
              "    </tr>\n",
              "    <tr>\n",
              "      <th>3</th>\n",
              "      <td>VID_23096</td>\n",
              "      <td>6</td>\n",
              "      <td>620860</td>\n",
              "      <td>777</td>\n",
              "      <td>161</td>\n",
              "      <td>153</td>\n",
              "      <td>2016-07-27</td>\n",
              "      <td>PT4M22S</td>\n",
              "      <td>H</td>\n",
              "    </tr>\n",
              "    <tr>\n",
              "      <th>4</th>\n",
              "      <td>VID_10175</td>\n",
              "      <td>1</td>\n",
              "      <td>666</td>\n",
              "      <td>1</td>\n",
              "      <td>0</td>\n",
              "      <td>0</td>\n",
              "      <td>2016-06-29</td>\n",
              "      <td>PT31S</td>\n",
              "      <td>D</td>\n",
              "    </tr>\n",
              "    <tr>\n",
              "      <th>...</th>\n",
              "      <td>...</td>\n",
              "      <td>...</td>\n",
              "      <td>...</td>\n",
              "      <td>...</td>\n",
              "      <td>...</td>\n",
              "      <td>...</td>\n",
              "      <td>...</td>\n",
              "      <td>...</td>\n",
              "      <td>...</td>\n",
              "    </tr>\n",
              "    <tr>\n",
              "      <th>14994</th>\n",
              "      <td>VID_31</td>\n",
              "      <td>2</td>\n",
              "      <td>525949</td>\n",
              "      <td>1137</td>\n",
              "      <td>83</td>\n",
              "      <td>86</td>\n",
              "      <td>2015-05-18</td>\n",
              "      <td>PT6M10S</td>\n",
              "      <td>A</td>\n",
              "    </tr>\n",
              "    <tr>\n",
              "      <th>14995</th>\n",
              "      <td>VID_5861</td>\n",
              "      <td>1</td>\n",
              "      <td>665673</td>\n",
              "      <td>3849</td>\n",
              "      <td>156</td>\n",
              "      <td>569</td>\n",
              "      <td>2015-10-20</td>\n",
              "      <td>PT3M56S</td>\n",
              "      <td>D</td>\n",
              "    </tr>\n",
              "    <tr>\n",
              "      <th>14996</th>\n",
              "      <td>VID_805</td>\n",
              "      <td>4</td>\n",
              "      <td>3479</td>\n",
              "      <td>16</td>\n",
              "      <td>1</td>\n",
              "      <td>1</td>\n",
              "      <td>2013-08-23</td>\n",
              "      <td>PT3M13S</td>\n",
              "      <td>B</td>\n",
              "    </tr>\n",
              "    <tr>\n",
              "      <th>14997</th>\n",
              "      <td>VID_19843</td>\n",
              "      <td>1</td>\n",
              "      <td>963</td>\n",
              "      <td>0</td>\n",
              "      <td>0</td>\n",
              "      <td>0</td>\n",
              "      <td>2010-10-02</td>\n",
              "      <td>PT26S</td>\n",
              "      <td>G</td>\n",
              "    </tr>\n",
              "    <tr>\n",
              "      <th>14998</th>\n",
              "      <td>VID_8534</td>\n",
              "      <td>1</td>\n",
              "      <td>15212</td>\n",
              "      <td>22</td>\n",
              "      <td>5</td>\n",
              "      <td>4</td>\n",
              "      <td>2016-02-19</td>\n",
              "      <td>PT1M1S</td>\n",
              "      <td>D</td>\n",
              "    </tr>\n",
              "  </tbody>\n",
              "</table>\n",
              "<p>14999 rows × 9 columns</p>\n",
              "</div>\n",
              "      <button class=\"colab-df-convert\" onclick=\"convertToInteractive('df-8c1d9980-799b-4deb-94e8-6fee27b9e40b')\"\n",
              "              title=\"Convert this dataframe to an interactive table.\"\n",
              "              style=\"display:none;\">\n",
              "        \n",
              "  <svg xmlns=\"http://www.w3.org/2000/svg\" height=\"24px\"viewBox=\"0 0 24 24\"\n",
              "       width=\"24px\">\n",
              "    <path d=\"M0 0h24v24H0V0z\" fill=\"none\"/>\n",
              "    <path d=\"M18.56 5.44l.94 2.06.94-2.06 2.06-.94-2.06-.94-.94-2.06-.94 2.06-2.06.94zm-11 1L8.5 8.5l.94-2.06 2.06-.94-2.06-.94L8.5 2.5l-.94 2.06-2.06.94zm10 10l.94 2.06.94-2.06 2.06-.94-2.06-.94-.94-2.06-.94 2.06-2.06.94z\"/><path d=\"M17.41 7.96l-1.37-1.37c-.4-.4-.92-.59-1.43-.59-.52 0-1.04.2-1.43.59L10.3 9.45l-7.72 7.72c-.78.78-.78 2.05 0 2.83L4 21.41c.39.39.9.59 1.41.59.51 0 1.02-.2 1.41-.59l7.78-7.78 2.81-2.81c.8-.78.8-2.07 0-2.86zM5.41 20L4 18.59l7.72-7.72 1.47 1.35L5.41 20z\"/>\n",
              "  </svg>\n",
              "      </button>\n",
              "      \n",
              "  <style>\n",
              "    .colab-df-container {\n",
              "      display:flex;\n",
              "      flex-wrap:wrap;\n",
              "      gap: 12px;\n",
              "    }\n",
              "\n",
              "    .colab-df-convert {\n",
              "      background-color: #E8F0FE;\n",
              "      border: none;\n",
              "      border-radius: 50%;\n",
              "      cursor: pointer;\n",
              "      display: none;\n",
              "      fill: #1967D2;\n",
              "      height: 32px;\n",
              "      padding: 0 0 0 0;\n",
              "      width: 32px;\n",
              "    }\n",
              "\n",
              "    .colab-df-convert:hover {\n",
              "      background-color: #E2EBFA;\n",
              "      box-shadow: 0px 1px 2px rgba(60, 64, 67, 0.3), 0px 1px 3px 1px rgba(60, 64, 67, 0.15);\n",
              "      fill: #174EA6;\n",
              "    }\n",
              "\n",
              "    [theme=dark] .colab-df-convert {\n",
              "      background-color: #3B4455;\n",
              "      fill: #D2E3FC;\n",
              "    }\n",
              "\n",
              "    [theme=dark] .colab-df-convert:hover {\n",
              "      background-color: #434B5C;\n",
              "      box-shadow: 0px 1px 3px 1px rgba(0, 0, 0, 0.15);\n",
              "      filter: drop-shadow(0px 1px 2px rgba(0, 0, 0, 0.3));\n",
              "      fill: #FFFFFF;\n",
              "    }\n",
              "  </style>\n",
              "\n",
              "      <script>\n",
              "        const buttonEl =\n",
              "          document.querySelector('#df-8c1d9980-799b-4deb-94e8-6fee27b9e40b button.colab-df-convert');\n",
              "        buttonEl.style.display =\n",
              "          google.colab.kernel.accessAllowed ? 'block' : 'none';\n",
              "\n",
              "        async function convertToInteractive(key) {\n",
              "          const element = document.querySelector('#df-8c1d9980-799b-4deb-94e8-6fee27b9e40b');\n",
              "          const dataTable =\n",
              "            await google.colab.kernel.invokeFunction('convertToInteractive',\n",
              "                                                     [key], {});\n",
              "          if (!dataTable) return;\n",
              "\n",
              "          const docLinkHtml = 'Like what you see? Visit the ' +\n",
              "            '<a target=\"_blank\" href=https://colab.research.google.com/notebooks/data_table.ipynb>data table notebook</a>'\n",
              "            + ' to learn more about interactive tables.';\n",
              "          element.innerHTML = '';\n",
              "          dataTable['output_type'] = 'display_data';\n",
              "          await google.colab.output.renderOutput(dataTable, element);\n",
              "          const docLink = document.createElement('div');\n",
              "          docLink.innerHTML = docLinkHtml;\n",
              "          element.appendChild(docLink);\n",
              "        }\n",
              "      </script>\n",
              "    </div>\n",
              "  </div>\n",
              "  "
            ],
            "text/plain": [
              "           vidid  adview    views likes  ... comment   published duration category\n",
              "0      VID_18655      40  1031602  8523  ...    1095  2016-09-14  PT7M37S        F\n",
              "1      VID_14135       2     1707    56  ...       6  2016-10-01  PT9M30S        D\n",
              "2       VID_2187       1     2023    25  ...       2  2016-07-02  PT2M16S        C\n",
              "3      VID_23096       6   620860   777  ...     153  2016-07-27  PT4M22S        H\n",
              "4      VID_10175       1      666     1  ...       0  2016-06-29    PT31S        D\n",
              "...          ...     ...      ...   ...  ...     ...         ...      ...      ...\n",
              "14994     VID_31       2   525949  1137  ...      86  2015-05-18  PT6M10S        A\n",
              "14995   VID_5861       1   665673  3849  ...     569  2015-10-20  PT3M56S        D\n",
              "14996    VID_805       4     3479    16  ...       1  2013-08-23  PT3M13S        B\n",
              "14997  VID_19843       1      963     0  ...       0  2010-10-02    PT26S        G\n",
              "14998   VID_8534       1    15212    22  ...       4  2016-02-19   PT1M1S        D\n",
              "\n",
              "[14999 rows x 9 columns]"
            ]
          },
          "metadata": {},
          "execution_count": 3
        }
      ]
    },
    {
      "cell_type": "code",
      "source": [
        "data_test"
      ],
      "metadata": {
        "colab": {
          "base_uri": "https://localhost:8080/",
          "height": 423
        },
        "id": "7lDqB19e6kw_",
        "outputId": "af648be0-9d74-47bf-d0d6-d57c13c546d4"
      },
      "execution_count": 4,
      "outputs": [
        {
          "output_type": "execute_result",
          "data": {
            "text/html": [
              "\n",
              "  <div id=\"df-622e7ea8-2989-4efe-99c3-705ab6b73f09\">\n",
              "    <div class=\"colab-df-container\">\n",
              "      <div>\n",
              "<style scoped>\n",
              "    .dataframe tbody tr th:only-of-type {\n",
              "        vertical-align: middle;\n",
              "    }\n",
              "\n",
              "    .dataframe tbody tr th {\n",
              "        vertical-align: top;\n",
              "    }\n",
              "\n",
              "    .dataframe thead th {\n",
              "        text-align: right;\n",
              "    }\n",
              "</style>\n",
              "<table border=\"1\" class=\"dataframe\">\n",
              "  <thead>\n",
              "    <tr style=\"text-align: right;\">\n",
              "      <th></th>\n",
              "      <th>vidid</th>\n",
              "      <th>views</th>\n",
              "      <th>likes</th>\n",
              "      <th>dislikes</th>\n",
              "      <th>comment</th>\n",
              "      <th>published</th>\n",
              "      <th>duration</th>\n",
              "      <th>category</th>\n",
              "    </tr>\n",
              "  </thead>\n",
              "  <tbody>\n",
              "    <tr>\n",
              "      <th>0</th>\n",
              "      <td>VID_1054</td>\n",
              "      <td>440238</td>\n",
              "      <td>6153</td>\n",
              "      <td>218</td>\n",
              "      <td>1377</td>\n",
              "      <td>2017-02-18</td>\n",
              "      <td>PT7M29S</td>\n",
              "      <td>B</td>\n",
              "    </tr>\n",
              "    <tr>\n",
              "      <th>1</th>\n",
              "      <td>VID_18629</td>\n",
              "      <td>1040132</td>\n",
              "      <td>8171</td>\n",
              "      <td>340</td>\n",
              "      <td>1047</td>\n",
              "      <td>2016-06-28</td>\n",
              "      <td>PT6M29S</td>\n",
              "      <td>F</td>\n",
              "    </tr>\n",
              "    <tr>\n",
              "      <th>2</th>\n",
              "      <td>VID_13967</td>\n",
              "      <td>28534</td>\n",
              "      <td>31</td>\n",
              "      <td>11</td>\n",
              "      <td>1</td>\n",
              "      <td>2014-03-10</td>\n",
              "      <td>PT37M54S</td>\n",
              "      <td>D</td>\n",
              "    </tr>\n",
              "    <tr>\n",
              "      <th>3</th>\n",
              "      <td>VID_19442</td>\n",
              "      <td>1316715</td>\n",
              "      <td>2284</td>\n",
              "      <td>250</td>\n",
              "      <td>274</td>\n",
              "      <td>2010-06-05</td>\n",
              "      <td>PT9M55S</td>\n",
              "      <td>G</td>\n",
              "    </tr>\n",
              "    <tr>\n",
              "      <th>4</th>\n",
              "      <td>VID_770</td>\n",
              "      <td>1893173</td>\n",
              "      <td>2519</td>\n",
              "      <td>225</td>\n",
              "      <td>116</td>\n",
              "      <td>2016-09-03</td>\n",
              "      <td>PT3M8S</td>\n",
              "      <td>B</td>\n",
              "    </tr>\n",
              "    <tr>\n",
              "      <th>...</th>\n",
              "      <td>...</td>\n",
              "      <td>...</td>\n",
              "      <td>...</td>\n",
              "      <td>...</td>\n",
              "      <td>...</td>\n",
              "      <td>...</td>\n",
              "      <td>...</td>\n",
              "      <td>...</td>\n",
              "    </tr>\n",
              "    <tr>\n",
              "      <th>8759</th>\n",
              "      <td>VID_2944</td>\n",
              "      <td>111205</td>\n",
              "      <td>471</td>\n",
              "      <td>14</td>\n",
              "      <td>101</td>\n",
              "      <td>2011-04-19</td>\n",
              "      <td>PT3M14S</td>\n",
              "      <td>C</td>\n",
              "    </tr>\n",
              "    <tr>\n",
              "      <th>8760</th>\n",
              "      <td>VID_8195</td>\n",
              "      <td>1074457</td>\n",
              "      <td>1024</td>\n",
              "      <td>195</td>\n",
              "      <td>65</td>\n",
              "      <td>2016-06-03</td>\n",
              "      <td>PT2H18M35S</td>\n",
              "      <td>D</td>\n",
              "    </tr>\n",
              "    <tr>\n",
              "      <th>8761</th>\n",
              "      <td>VID_18973</td>\n",
              "      <td>1891692</td>\n",
              "      <td>4606</td>\n",
              "      <td>1109</td>\n",
              "      <td>191</td>\n",
              "      <td>2016-06-26</td>\n",
              "      <td>PT7M14S</td>\n",
              "      <td>F</td>\n",
              "    </tr>\n",
              "    <tr>\n",
              "      <th>8762</th>\n",
              "      <td>VID_5849</td>\n",
              "      <td>714859</td>\n",
              "      <td>1639</td>\n",
              "      <td>151</td>\n",
              "      <td>382</td>\n",
              "      <td>2016-03-23</td>\n",
              "      <td>PT3M15S</td>\n",
              "      <td>D</td>\n",
              "    </tr>\n",
              "    <tr>\n",
              "      <th>8763</th>\n",
              "      <td>VID_8494</td>\n",
              "      <td>5297</td>\n",
              "      <td>12</td>\n",
              "      <td>1</td>\n",
              "      <td>0</td>\n",
              "      <td>2016-12-19</td>\n",
              "      <td>PT10M14S</td>\n",
              "      <td>D</td>\n",
              "    </tr>\n",
              "  </tbody>\n",
              "</table>\n",
              "<p>8764 rows × 8 columns</p>\n",
              "</div>\n",
              "      <button class=\"colab-df-convert\" onclick=\"convertToInteractive('df-622e7ea8-2989-4efe-99c3-705ab6b73f09')\"\n",
              "              title=\"Convert this dataframe to an interactive table.\"\n",
              "              style=\"display:none;\">\n",
              "        \n",
              "  <svg xmlns=\"http://www.w3.org/2000/svg\" height=\"24px\"viewBox=\"0 0 24 24\"\n",
              "       width=\"24px\">\n",
              "    <path d=\"M0 0h24v24H0V0z\" fill=\"none\"/>\n",
              "    <path d=\"M18.56 5.44l.94 2.06.94-2.06 2.06-.94-2.06-.94-.94-2.06-.94 2.06-2.06.94zm-11 1L8.5 8.5l.94-2.06 2.06-.94-2.06-.94L8.5 2.5l-.94 2.06-2.06.94zm10 10l.94 2.06.94-2.06 2.06-.94-2.06-.94-.94-2.06-.94 2.06-2.06.94z\"/><path d=\"M17.41 7.96l-1.37-1.37c-.4-.4-.92-.59-1.43-.59-.52 0-1.04.2-1.43.59L10.3 9.45l-7.72 7.72c-.78.78-.78 2.05 0 2.83L4 21.41c.39.39.9.59 1.41.59.51 0 1.02-.2 1.41-.59l7.78-7.78 2.81-2.81c.8-.78.8-2.07 0-2.86zM5.41 20L4 18.59l7.72-7.72 1.47 1.35L5.41 20z\"/>\n",
              "  </svg>\n",
              "      </button>\n",
              "      \n",
              "  <style>\n",
              "    .colab-df-container {\n",
              "      display:flex;\n",
              "      flex-wrap:wrap;\n",
              "      gap: 12px;\n",
              "    }\n",
              "\n",
              "    .colab-df-convert {\n",
              "      background-color: #E8F0FE;\n",
              "      border: none;\n",
              "      border-radius: 50%;\n",
              "      cursor: pointer;\n",
              "      display: none;\n",
              "      fill: #1967D2;\n",
              "      height: 32px;\n",
              "      padding: 0 0 0 0;\n",
              "      width: 32px;\n",
              "    }\n",
              "\n",
              "    .colab-df-convert:hover {\n",
              "      background-color: #E2EBFA;\n",
              "      box-shadow: 0px 1px 2px rgba(60, 64, 67, 0.3), 0px 1px 3px 1px rgba(60, 64, 67, 0.15);\n",
              "      fill: #174EA6;\n",
              "    }\n",
              "\n",
              "    [theme=dark] .colab-df-convert {\n",
              "      background-color: #3B4455;\n",
              "      fill: #D2E3FC;\n",
              "    }\n",
              "\n",
              "    [theme=dark] .colab-df-convert:hover {\n",
              "      background-color: #434B5C;\n",
              "      box-shadow: 0px 1px 3px 1px rgba(0, 0, 0, 0.15);\n",
              "      filter: drop-shadow(0px 1px 2px rgba(0, 0, 0, 0.3));\n",
              "      fill: #FFFFFF;\n",
              "    }\n",
              "  </style>\n",
              "\n",
              "      <script>\n",
              "        const buttonEl =\n",
              "          document.querySelector('#df-622e7ea8-2989-4efe-99c3-705ab6b73f09 button.colab-df-convert');\n",
              "        buttonEl.style.display =\n",
              "          google.colab.kernel.accessAllowed ? 'block' : 'none';\n",
              "\n",
              "        async function convertToInteractive(key) {\n",
              "          const element = document.querySelector('#df-622e7ea8-2989-4efe-99c3-705ab6b73f09');\n",
              "          const dataTable =\n",
              "            await google.colab.kernel.invokeFunction('convertToInteractive',\n",
              "                                                     [key], {});\n",
              "          if (!dataTable) return;\n",
              "\n",
              "          const docLinkHtml = 'Like what you see? Visit the ' +\n",
              "            '<a target=\"_blank\" href=https://colab.research.google.com/notebooks/data_table.ipynb>data table notebook</a>'\n",
              "            + ' to learn more about interactive tables.';\n",
              "          element.innerHTML = '';\n",
              "          dataTable['output_type'] = 'display_data';\n",
              "          await google.colab.output.renderOutput(dataTable, element);\n",
              "          const docLink = document.createElement('div');\n",
              "          docLink.innerHTML = docLinkHtml;\n",
              "          element.appendChild(docLink);\n",
              "        }\n",
              "      </script>\n",
              "    </div>\n",
              "  </div>\n",
              "  "
            ],
            "text/plain": [
              "          vidid    views likes  ...   published    duration category\n",
              "0      VID_1054   440238  6153  ...  2017-02-18     PT7M29S        B\n",
              "1     VID_18629  1040132  8171  ...  2016-06-28     PT6M29S        F\n",
              "2     VID_13967    28534    31  ...  2014-03-10    PT37M54S        D\n",
              "3     VID_19442  1316715  2284  ...  2010-06-05     PT9M55S        G\n",
              "4       VID_770  1893173  2519  ...  2016-09-03      PT3M8S        B\n",
              "...         ...      ...   ...  ...         ...         ...      ...\n",
              "8759   VID_2944   111205   471  ...  2011-04-19     PT3M14S        C\n",
              "8760   VID_8195  1074457  1024  ...  2016-06-03  PT2H18M35S        D\n",
              "8761  VID_18973  1891692  4606  ...  2016-06-26     PT7M14S        F\n",
              "8762   VID_5849   714859  1639  ...  2016-03-23     PT3M15S        D\n",
              "8763   VID_8494     5297    12  ...  2016-12-19    PT10M14S        D\n",
              "\n",
              "[8764 rows x 8 columns]"
            ]
          },
          "metadata": {},
          "execution_count": 4
        }
      ]
    },
    {
      "cell_type": "markdown",
      "source": [
        "PREPROCESSING"
      ],
      "metadata": {
        "id": "S7jS0rnB6wGu"
      }
    },
    {
      "cell_type": "code",
      "source": [
        "categories={\"A\":1,\"B\":2,\"C\":3,\"D\":4,\"E\":5,\"F\":6,\"G\":7,\"H\":8}\n",
        "\n",
        "data_train[\"category\"]=data_train[\"category\"].map(categories)\n",
        "data_test[\"category\"]=data_test[\"category\"].map(categories)"
      ],
      "metadata": {
        "id": "IWMWtqPm61HQ"
      },
      "execution_count": 5,
      "outputs": []
    },
    {
      "cell_type": "code",
      "source": [
        "for e in [\"views\",\"likes\",\"dislikes\",\"comment\"]:\n",
        "  data_train=data_train[data_train[e]!='F']\n",
        "  for i in range(len(data_test)):\n",
        "    if data_test[e][i]=='F':\n",
        "      data_test.loc[i,e]='0'\n",
        "\n",
        "for e in [\"views\",\"likes\",\"dislikes\",\"comment\",\"adview\"]:\n",
        "  data_train[e]=pd.to_numeric(data_train[e])\n",
        "  if e!='adview':\n",
        "    data_test[e]=pd.to_numeric(data_test[e])\n",
        "\n",
        "  data_train=data_train[data_train[\"adview\"]<2000000]\n",
        "\n",
        "  data_train[\"published\"]=LabelEncoder().fit_transform(data_train[\"published\"])\n",
        "  data_test[\"published\"]=LabelEncoder().fit_transform(data_test[\"published\"])"
      ],
      "metadata": {
        "colab": {
          "base_uri": "https://localhost:8080/"
        },
        "id": "qUtNIuYv7QTa",
        "outputId": "5b157e2d-ae22-4363-b8b2-a424639e7ef8"
      },
      "execution_count": 6,
      "outputs": [
        {
          "output_type": "stream",
          "name": "stderr",
          "text": [
            "/usr/local/lib/python3.7/dist-packages/ipykernel_launcher.py:8: SettingWithCopyWarning: \n",
            "A value is trying to be set on a copy of a slice from a DataFrame.\n",
            "Try using .loc[row_indexer,col_indexer] = value instead\n",
            "\n",
            "See the caveats in the documentation: https://pandas.pydata.org/pandas-docs/stable/user_guide/indexing.html#returning-a-view-versus-a-copy\n",
            "  \n"
          ]
        }
      ]
    },
    {
      "cell_type": "code",
      "source": [
        "def checki(x):\n",
        "  y=x[2:]\n",
        "  h,m,s,mm=\"\",\"\",\"\",\"\"\n",
        "  P=[\"H\",\"M\",\"S\"]\n",
        "  for i in y:\n",
        "    if i not in P:\n",
        "      mm += i\n",
        "    else:\n",
        "      if i==P[0]:\n",
        "        h=mm\n",
        "        mm=\"\"\n",
        "      elif i==P[1]:\n",
        "        m=mm\n",
        "        mm=\"\"\n",
        "      else:\n",
        "        s=mm\n",
        "        mm=\"\"\n",
        "    \n",
        "  if h==\"\":\n",
        "    h=\"00\"\n",
        "  if m==\"\":\n",
        "    m=\"00\"\n",
        "  if s==\"\":\n",
        "    s=\"00\"\n",
        "  bp=h+\":\"+m+\":\"+s\n",
        "  return bp"
      ],
      "metadata": {
        "id": "7gGmrv7c8jtn"
      },
      "execution_count": 8,
      "outputs": []
    },
    {
      "cell_type": "code",
      "source": [
        "def func_sec(time_str):\n",
        "  h,m,s=time_str.split(\":\")\n",
        "  return int(h) * 3600 + int(m) * 60 + int(s)"
      ],
      "metadata": {
        "id": "ElxDiynU9XXQ"
      },
      "execution_count": 9,
      "outputs": []
    },
    {
      "cell_type": "code",
      "source": [
        "data_train[\"duration\"]=data_train[\"duration\"].apply(checki).apply(func_sec)\n",
        "data_test[\"duration\"]=data_test[\"duration\"].apply(checki).apply(func_sec)"
      ],
      "metadata": {
        "id": "P_1H8AJ0-I_k"
      },
      "execution_count": 10,
      "outputs": []
    },
    {
      "cell_type": "markdown",
      "source": [
        "Visualize Correlation"
      ],
      "metadata": {
        "id": "ePNAu7zx_fV-"
      }
    },
    {
      "cell_type": "code",
      "source": [
        "fig,axs=plt.subplots(2,3,figsize=(12,10))\n",
        "axs[0,0].scatter(data_train[\"duration\"],data_train[\"adview\"],s=2)\n",
        "axs[0,1].scatter(data_train[\"views\"],data_train[\"adview\"],s=2)\n",
        "axs[0,2].scatter(data_train[\"likes\"],data_train[\"adview\"],s=2)\n",
        "axs[1,0].scatter(data_train[\"dislikes\"],data_train[\"adview\"],s=2)\n",
        "axs[1,1].scatter(data_train[\"comment\"],data_train[\"adview\"],s=2)\n",
        "axs[1,2].scatter(data_train[\"category\"],data_train[\"adview\"],s=2)\n",
        "plt.plot()"
      ],
      "metadata": {
        "colab": {
          "base_uri": "https://localhost:8080/",
          "height": 619
        },
        "id": "xYYqKsL7_l__",
        "outputId": "d83890ab-c2cd-4c58-e863-6e2f6b2d566b"
      },
      "execution_count": 11,
      "outputs": [
        {
          "output_type": "execute_result",
          "data": {
            "text/plain": [
              "[]"
            ]
          },
          "metadata": {},
          "execution_count": 11
        },
        {
          "output_type": "display_data",
          "data": {
            "image/png": "[encoded data removed]",
            "text/plain": [
              "<Figure size 864x720 with 6 Axes>"
            ]
          },
          "metadata": {
            "needs_background": "light"
          }
        }
      ]
    },
    {
      "cell_type": "code",
      "source": [
        "f,ax=plt.subplots(figsize=(10,8))\n",
        "corr=data_train.corr()\n",
        "sns.heatmap(corr,mask=np.zeros_like(corr,dtype=np.bool),cmap=sns.diverging_palette(220,10,as_cmap=True),\n",
        "            square=True,ax=ax,annot=True)\n",
        "plt.show()"
      ],
      "metadata": {
        "colab": {
          "base_uri": "https://localhost:8080/",
          "height": 487
        },
        "id": "VyCPtNfmAsgb",
        "outputId": "7a018c43-4b25-4d33-b7d9-977b41a33b54"
      },
      "execution_count": 12,
      "outputs": [
        {
          "output_type": "display_data",
          "data": {
            "image/png": "[encoded data removed]",
            "text/plain": [
              "<Figure size 720x576 with 2 Axes>"
            ]
          },
          "metadata": {
            "needs_background": "light"
          }
        }
      ]
    },
    {
      "cell_type": "markdown",
      "source": [
        "Prepare for input to model"
      ],
      "metadata": {
        "id": "sPUZky9jBMiN"
      }
    },
    {
      "cell_type": "code",
      "source": [
        "Y=pd.DataFrame(data_train.iloc[:,1].values,columns=[\"target\"])\n",
        "data_test_y=pd.DataFrame(data_test.iloc[:,0].values,columns=[\"vidid\"])\n",
        "data_train=data_train.drop([\"adview\",\"vidid\"],axis=1)\n",
        "data_test=data_test.drop([\"vidid\"],axis=1)"
      ],
      "metadata": {
        "id": "tMRas4-LBQW8"
      },
      "execution_count": 13,
      "outputs": []
    },
    {
      "cell_type": "code",
      "source": [
        "X_train,X_test,y_train,y_test=train_test_split(\n",
        "    data_train,Y,test_size=0.1,random_state=42\n",
        ")\n",
        "\n",
        "y_train=y_train.to_numpy().ravel()\n",
        "y_test=y_test.to_numpy().ravel()"
      ],
      "metadata": {
        "id": "Cw5gdWDvBuJl"
      },
      "execution_count": 14,
      "outputs": []
    },
    {
      "cell_type": "code",
      "source": [
        "sc_X=MinMaxScaler()\n",
        "X_train=sc_X.fit_transform(X_train)\n",
        "X_test=sc_X.transform(X_test)\n",
        "data_test=sc_X.transform(data_test)"
      ],
      "metadata": {
        "id": "C6C3bQ0wCPlI"
      },
      "execution_count": 15,
      "outputs": []
    },
    {
      "cell_type": "markdown",
      "source": [
        "Test on models"
      ],
      "metadata": {
        "id": "LBpdxfV6Cl2z"
      }
    },
    {
      "cell_type": "code",
      "source": [
        "def evaluate(X_test,y_test,model):\n",
        "  y_preds=model.predict(X_test)\n",
        "  print(\"Mean Squared Error:\",mean_squared_error(y_test,y_preds))\n",
        "  print(\"R^2:\",r2_score(y_test,y_preds))\n",
        "  plt.figure(figsize=(16,8))\n",
        "  plt.scatter(range(len(y_preds)),y_preds,color=\"red\",s=1)\n",
        "  plt.scatter(range(len(y_test)),y_test,color=\"green\",s=1)\n",
        "  plt.show()"
      ],
      "metadata": {
        "id": "x17EMRQtCoYH"
      },
      "execution_count": 16,
      "outputs": []
    },
    {
      "cell_type": "markdown",
      "source": [
        "Linear Regression"
      ],
      "metadata": {
        "id": "g8y7LeUgDZkE"
      }
    },
    {
      "cell_type": "code",
      "source": [
        "linear_regression=LinearRegression()\n",
        "linear_regression.fit(X_train,y_train)\n",
        "print(\"Linear Regression\")\n",
        "evaluate(X_test,y_test,linear_regression)"
      ],
      "metadata": {
        "colab": {
          "base_uri": "https://localhost:8080/",
          "height": 489
        },
        "id": "LDewfVlxDdGa",
        "outputId": "832b396d-e866-4ab3-dd76-a1d97f7cae9e"
      },
      "execution_count": 17,
      "outputs": [
        {
          "output_type": "stream",
          "name": "stdout",
          "text": [
            "Linear Regression\n",
            "Mean Squared Error: 104797222.51814939\n",
            "R^2: -0.022721187595377\n"
          ]
        },
        {
          "output_type": "display_data",
          "data": {
            "image/png": "[encoded data removed]",
            "text/plain": [
              "<Figure size 1152x576 with 1 Axes>"
            ]
          },
          "metadata": {
            "needs_background": "light"
          }
        }
      ]
    },
    {
      "cell_type": "markdown",
      "source": [
        "SVR"
      ],
      "metadata": {
        "id": "nNvJFp0vDzBT"
      }
    },
    {
      "cell_type": "code",
      "source": [
        "svr_model=SVR()\n",
        "svr_model.fit(X_train,y_train)\n",
        "print(\"SVR\")\n",
        "evaluate(X_test,y_test,svr_model)"
      ],
      "metadata": {
        "colab": {
          "base_uri": "https://localhost:8080/",
          "height": 489
        },
        "id": "CaQO5qfXD0zk",
        "outputId": "df7cfccc-4051-4415-8321-83d5dea94e23"
      },
      "execution_count": 18,
      "outputs": [
        {
          "output_type": "stream",
          "name": "stdout",
          "text": [
            "SVR\n",
            "Mean Squared Error: 103562575.41575138\n",
            "R^2: -0.010672206520453864\n"
          ]
        },
        {
          "output_type": "display_data",
          "data": {
            "image/png": "[encoded data removed]",
            "text/plain": [
              "<Figure size 1152x576 with 1 Axes>"
            ]
          },
          "metadata": {
            "needs_background": "light"
          }
        }
      ]
    },
    {
      "cell_type": "markdown",
      "source": [
        "Decision Tree"
      ],
      "metadata": {
        "id": "AFeOubDeEMaI"
      }
    },
    {
      "cell_type": "code",
      "source": [
        "dt_model=DecisionTreeRegressor()\n",
        "dt_model.fit(X_train,y_train)\n",
        "print(\"DECISION TREE\")\n",
        "evaluate(X_test,y_test,dt_model)"
      ],
      "metadata": {
        "colab": {
          "base_uri": "https://localhost:8080/",
          "height": 489
        },
        "id": "F7qPP3dbEO_-",
        "outputId": "986bc916-a206-4cd8-c2a1-df1c849dfb15"
      },
      "execution_count": 19,
      "outputs": [
        {
          "output_type": "stream",
          "name": "stdout",
          "text": [
            "DECISION TREE\n",
            "Mean Squared Error: 284921667.50956285\n",
            "R^2: -1.780564400135411\n"
          ]
        },
        {
          "output_type": "display_data",
          "data": {
            "image/png": "[encoded data removed]",
            "text/plain": [
              "<Figure size 1152x576 with 1 Axes>"
            ]
          },
          "metadata": {
            "needs_background": "light"
          }
        }
      ]
    },
    {
      "cell_type": "markdown",
      "source": [
        "RANDOM FOREST"
      ],
      "metadata": {
        "id": "ce3rAuW8Elwv"
      }
    },
    {
      "cell_type": "code",
      "source": [
        "rf_model=RandomForestRegressor()\n",
        "rf_model.fit(X_train,y_train)\n",
        "print(\"RANDOM FOREST\")\n",
        "evaluate(X_test,y_test,rf_model)"
      ],
      "metadata": {
        "colab": {
          "base_uri": "https://localhost:8080/",
          "height": 489
        },
        "id": "k9fSoA-ZEn__",
        "outputId": "e6318dc3-a693-4653-ce81-6faab9fc4ff6"
      },
      "execution_count": 20,
      "outputs": [
        {
          "output_type": "stream",
          "name": "stdout",
          "text": [
            "RANDOM FOREST\n",
            "Mean Squared Error: 235350570.5543032\n",
            "R^2: -1.2967976558430356\n"
          ]
        },
        {
          "output_type": "display_data",
          "data": {
            "image/png": "[encoded data removed]",
            "text/plain": [
              "<Figure size 1152x576 with 1 Axes>"
            ]
          },
          "metadata": {
            "needs_background": "light"
          }
        }
      ]
    },
    {
      "cell_type": "markdown",
      "source": [
        "Random Forest w/ Hyperparameter tuning"
      ],
      "metadata": {
        "id": "G2o_jQ0lE-T_"
      }
    },
    {
      "cell_type": "code",
      "source": [
        "n_estimators=[int(x) for x in np.linspace(50,300,num=10)]\n",
        "max_features=['auto','sqrt']\n",
        "max_depth=[int(x) for x in np.linspace(1,60,num=5)]\n",
        "min_samples_split=[5,10]\n",
        "\n",
        "random_grid={'n_estimators':n_estimators,\n",
        "             'max_features':max_features,\n",
        "             'max_depth':max_depth,\n",
        "             'min_samples_split':min_samples_split}"
      ],
      "metadata": {
        "id": "rPlyj8TlFDCv"
      },
      "execution_count": 21,
      "outputs": []
    },
    {
      "cell_type": "code",
      "source": [
        "rf_random = RandomizedSearchCV(estimator=rf_model, param_distributions = random_grid, n_iter = 20, cv = 10, n_jobs=-1, verbose=2, scoring='neg_mean_squared_error')\n",
        "rf_random.fit(X_train, y_train)\n",
        "evaluate(X_test, y_test, rf_random.best_estimator_)"
      ],
      "metadata": {
        "colab": {
          "base_uri": "https://localhost:8080/",
          "height": 489
        },
        "id": "wRMVdaRbGuGi",
        "outputId": "13ab0aa2-10d1-4b53-cb40-61d8705aa15a"
      },
      "execution_count": 22,
      "outputs": [
        {
          "output_type": "stream",
          "name": "stdout",
          "text": [
            "Fitting 10 folds for each of 20 candidates, totalling 200 fits\n",
            "Mean Squared Error: 130241381.76735488\n",
            "R^2: -0.2710319742691998\n"
          ]
        },
        {
          "output_type": "display_data",
          "data": {
            "image/png": "[encoded data removed]",
            "text/plain": [
              "<Figure size 1152x576 with 1 Axes>"
            ]
          },
          "metadata": {
            "needs_background": "light"
          }
        }
      ]
    },
    {
      "cell_type": "markdown",
      "source": [
        "NEURAL NETWORK"
      ],
      "metadata": {
        "id": "QtfJ06SlarEb"
      }
    },
    {
      "cell_type": "code",
      "source": [
        "ann_model=keras.models.Sequential([\n",
        "                                   keras.layers.Dense(16,activation='relu'),\n",
        "                                   keras.layers.Dropout(0.2),\n",
        "                                   keras.layers.Dense(16,activation='relu'),\n",
        "                                   keras.layers.Dropout(0.2),\n",
        "                                   keras.layers.Dense(8,activation='relu'),\n",
        "                                   keras.layers.Dense(units=1)\n",
        "])"
      ],
      "metadata": {
        "id": "BL_JLGNeatoh"
      },
      "execution_count": 25,
      "outputs": []
    },
    {
      "cell_type": "code",
      "source": [
        "ann_model.compile(optimizer='rmsprop',loss='mse',metrics=['mse'])"
      ],
      "metadata": {
        "id": "6MVBy7nmbdoI"
      },
      "execution_count": 26,
      "outputs": []
    },
    {
      "cell_type": "code",
      "source": [
        "ann_model.fit(X_train,y_train,epochs=200,verbose=0)\n",
        "evaluate(X_test,y_test,ann_model)"
      ],
      "metadata": {
        "colab": {
          "base_uri": "https://localhost:8080/",
          "height": 471
        },
        "id": "-tvRbYZybmsZ",
        "outputId": "01107d89-7a39-4519-d8d7-edd2d4f25288"
      },
      "execution_count": 27,
      "outputs": [
        {
          "output_type": "stream",
          "name": "stdout",
          "text": [
            "Mean Squared Error: 101144292.5385856\n",
            "R^2: 0.012927933603948949\n"
          ]
        },
        {
          "output_type": "display_data",
          "data": {
            "image/png": "[encoded data removed]",
            "text/plain": [
              "<Figure size 1152x576 with 1 Axes>"
            ]
          },
          "metadata": {
            "needs_background": "light"
          }
        }
      ]
    },
    {
      "cell_type": "markdown",
      "source": [
        "SAVE MODEL"
      ],
      "metadata": {
        "id": "jg4y0smcc9uM"
      }
    },
    {
      "cell_type": "code",
      "source": [
        "joblib.dump(rf_random.best_estimator_,\"ml_model.pkl\")"
      ],
      "metadata": {
        "colab": {
          "base_uri": "https://localhost:8080/"
        },
        "id": "sjR8kMlYc_wU",
        "outputId": "999f6a15-b00b-4b08-e610-e4d7eec05b1a"
      },
      "execution_count": 28,
      "outputs": [
        {
          "output_type": "execute_result",
          "data": {
            "text/plain": [
              "['ml_model.pkl']"
            ]
          },
          "metadata": {},
          "execution_count": 28
        }
      ]
    },
    {
      "cell_type": "code",
      "source": [
        "ann_model.save(\"ann_model.h5\")"
      ],
      "metadata": {
        "id": "9zzsazc-dIjh"
      },
      "execution_count": 29,
      "outputs": []
    },
    {
      "cell_type": "markdown",
      "source": [
        "Load Model"
      ],
      "metadata": {
        "id": "2uBDpgJSdNDA"
      }
    },
    {
      "cell_type": "code",
      "source": [
        "model=joblib.load(\"ml_model.pkl\")"
      ],
      "metadata": {
        "id": "te_FcjiNdPiC"
      },
      "execution_count": 30,
      "outputs": []
    },
    {
      "cell_type": "code",
      "source": [
        "model=keras.models.load_model(\"ann_model.h5\")"
      ],
      "metadata": {
        "id": "r9dQ2AuOdUMU"
      },
      "execution_count": 31,
      "outputs": []
    },
    {
      "cell_type": "code",
      "source": [
        "preds=model.predict(data_test)\n",
        "preds=preds.astype(np.int16)"
      ],
      "metadata": {
        "id": "mSQSAVF9daeL"
      },
      "execution_count": 32,
      "outputs": []
    },
    {
      "cell_type": "code",
      "source": [
        "preds=preds.reshape(1,-1)[0].tolist()\n",
        "d={'adview':preds}\n",
        "pd.DataFrame(d).to_csv('predictions.csv',index=False)"
      ],
      "metadata": {
        "id": "4Sj4muE5dlZH"
      },
      "execution_count": 33,
      "outputs": []
    }
  ]
}